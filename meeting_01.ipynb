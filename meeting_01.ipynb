{
 "cells": [
  {
   "cell_type": "code",
   "execution_count": 1,
   "metadata": {},
   "outputs": [],
   "source": []
  },
  {
   "cell_type": "markdown",
   "metadata": {},
   "source": [
    "# Setting up the libraries"
   ]
  },
  {
   "cell_type": "code",
   "execution_count": null,
   "metadata": {},
   "outputs": [],
   "source": [
    "Pkg.add(\"LinearMaps\")\n",
    "Pkg.clone(\"https://github.com/Jutho/TensorOperations.jl\")\n",
    "Pkg.update()"
   ]
  },
  {
   "cell_type": "markdown",
   "metadata": {},
   "source": [
    "# Exact diagonalization of the Ising model"
   ]
  },
  {
   "cell_type": "code",
   "execution_count": 5,
   "metadata": {
    "collapsed": true
   },
   "outputs": [],
   "source": [
    "using LinearMaps"
   ]
  },
  {
   "cell_type": "code",
   "execution_count": 10,
   "metadata": {},
   "outputs": [
    {
     "name": "stdout",
     "output_type": "stream",
     "text": [
      " 64.718491 seconds (606.81 M allocations: 29.739 GiB, 5.72% gc time)\n"
     ]
    },
    {
     "name": "stderr",
     "output_type": "stream",
     "text": [
      "\u001b[1m\u001b[36mINFO: \u001b[39m\u001b[22m\u001b[36m-1.2759148957686433\n",
      "\u001b[39m\u001b[1m\u001b[36mINFO: \u001b[39m\u001b[22m\u001b[36m0.002101215788139041\n",
      "\u001b[39m"
     ]
    }
   ],
   "source": [
    "# Ising model with transverse magnetic field h (critical h=1 by default)\n",
    "function build_ising_ham(h=1.0)\n",
    "    X = [0 1; 1 0]\n",
    "    Z = [1 0; 0 -1]\n",
    "    I = eye(2)\n",
    "    XX = kron(X,X)\n",
    "    ZI = kron(Z,I)\n",
    "    IZ = kron(I,Z)\n",
    "    H = -(XX + h/2*(ZI+IZ))\n",
    "    return H\n",
    "end\n",
    "\n",
    "\n",
    "function apply_spin_hamiltonian{T}(v::AbstractVector{T}, ham::Matrix{T})\n",
    "    D = length(v)\n",
    "    N = convert(Int64, log2(D))\n",
    "    tensor_shp = tuple(fill(2, N)...)  # tensor_shp =(2,2,2, ..., 2)\n",
    "    cyclperm = tuple(2:N..., 1)  #tuple for cyclic permutation cyclperm = (2, 3, ... N, 1)\n",
    "    out = zeros(tensor_shp)\n",
    "    for n=1:N\n",
    "        v, out = reshape(v, (4, 2^(N-2))), reshape(out, (4, 2^(N-2)))\n",
    "        out += ham*v\n",
    "        v, out = reshape(v, tensor_shp), reshape(out, tensor_shp)\n",
    "        v, out = permutedims(v, cyclperm), permutedims(out, cyclperm) \n",
    "    end\n",
    "    out = reshape(out, D)\n",
    "    return out\n",
    "end\n",
    "\n",
    "\n",
    "N = 14\n",
    "ising_h = build_ising_ham()\n",
    "apply_ising_hamiltonian(v) = apply_spin_hamiltonian(v, ising_h)\n",
    "H = LinearMap(apply_ising_hamiltonian, 2^N)\n",
    "@time u, v = eigs(H; nev=1, which=:SR)  #:SR stands for smallest real part\n",
    "energy = real(u[1])\n",
    "e_density = energy/N\n",
    "infN_e_density = -4/pi\n",
    "info(e_density)\n",
    "info((e_density - infN_e_density)/infN_e_density)"
   ]
  },
  {
   "cell_type": "markdown",
   "metadata": {},
   "source": [
    "# Uniform Matrix Product States"
   ]
  },
  {
   "cell_type": "code",
   "execution_count": 3,
   "metadata": {},
   "outputs": [
    {
     "name": "stderr",
     "output_type": "stream",
     "text": [
      "WARNING: replacing module MPSTools\n"
     ]
    }
   ],
   "source": [
    "include(\"MPSTools.jl\")\n",
    "using MPSTools"
   ]
  },
  {
   "cell_type": "code",
   "execution_count": 4,
   "metadata": {},
   "outputs": [
    {
     "name": "stderr",
     "output_type": "stream",
     "text": [
      "\u001b[1m\u001b[36mINFO: \u001b[39m\u001b[22m\u001b[36m5\n",
      "\u001b[39m\u001b[1m\u001b[36mINFO: \u001b[39m\u001b[22m\u001b[36m2\n",
      "\u001b[39m\u001b[1m\u001b[36mINFO: \u001b[39m\u001b[22m\u001b[36mComplex{Float64}[0.744652-1.12976im -0.968165-0.224989im; -1.22516-0.957561im 0.316324+0.637425im; -0.110278+0.552591im 0.43988+0.18355im; 0.956878+0.393327im 1.4291-0.0377493im; 0.142396-0.110386im 0.956832-0.911607im]\n",
      "\n",
      "Complex{Float64}[1.54723+0.701967im -0.310647-0.71533im; -0.381559+0.255508im -0.132735+1.08072im; -0.370723-0.133146im 0.271987-0.238011im; -0.399657+1.31718im 0.632122+0.182089im; 0.275616+0.35622im -0.640325+1.31677im]\n",
      "\n",
      "Complex{Float64}[-0.509559-0.258974im 0.57498+0.685549im; -1.0083+0.047313im 0.783889-0.0143781im; 0.0950174+1.32624im 0.306357-0.883913im; -0.251599+0.261489im 1.4577-0.792693im; -0.915025+0.00288091im -0.146286-0.369911im]\n",
      "\n",
      "Complex{Float64}[0.540806+0.734083im 0.426209+0.286974im; 0.286103-0.262267im 0.497595-0.853037im; -0.156529+0.214838im -0.0508923-0.163969im; 0.787602+0.151493im -0.116621+0.941736im; -0.85885-0.0187503im -0.0986024+0.328805im]\n",
      "\n",
      "Complex{Float64}[-0.663715-0.979546im 2.13778-0.0764858im; 0.750549+0.150234im 0.641567-0.0148511im; -0.221745-0.630837im 0.415217+0.764529im; -1.5133-1.25793im -1.47983+0.309551im; 0.934582-1.03933im 0.0378191+0.171688im]\n",
      "\u001b[39m"
     ]
    }
   ],
   "source": [
    "d = 2\n",
    "D = 5\n",
    "rumps = rand_UMPS(Complex128, d, D)\n",
    "\n",
    "info(bond_dim(rumps))\n",
    "info(phys_dim(rumps))\n",
    "info(mps_tensor(rumps))"
   ]
  },
  {
   "cell_type": "markdown",
   "metadata": {},
   "source": [
    "# How to use TensorOperations\n",
    "https://github.com/Jutho/TensorOperations.jl"
   ]
  },
  {
   "cell_type": "code",
   "execution_count": 17,
   "metadata": {
    "collapsed": true
   },
   "outputs": [],
   "source": [
    "using TensorOperations"
   ]
  },
  {
   "cell_type": "code",
   "execution_count": 19,
   "metadata": {},
   "outputs": [
    {
     "data": {
      "text/plain": [
       "5×5×5 Array{Float64,3}:\n",
       "[:, :, 1] =\n",
       " -2.12169   -2.99067   -3.74255  -2.59708   5.25028\n",
       " -2.50781   -5.4607    -3.37948  -6.93873   2.58659\n",
       "  4.50568    0.387593   7.47029   2.52363  10.1505 \n",
       " -0.988978   0.247945  -5.54016  -1.1716   -7.00871\n",
       " -5.94354    7.58316    2.56992  -9.00105   6.45988\n",
       "\n",
       "[:, :, 2] =\n",
       "  0.198349  -4.46213    6.3206   -2.8836     1.74121\n",
       "  5.27555    1.78594    3.38578  -6.23562    2.07318\n",
       " -3.51399    0.929723  -9.07545   2.97692    3.71744\n",
       "  0.635069   1.67097   -6.58773  -4.70528  -14.7961 \n",
       " -5.85589   -4.83646   -2.80677  -5.29183    6.72133\n",
       "\n",
       "[:, :, 3] =\n",
       " 2.22512   -0.987532   1.58404  -2.78058  -0.811776\n",
       " 1.47323    5.61518   -2.07568   2.90729  -0.723866\n",
       " 4.0569     0.984389  11.247     8.49051   4.42938 \n",
       " 3.66296   -0.70147   11.657    -5.74762  -0.406107\n",
       " 0.527249  -2.81005   -1.39472  -7.85853   2.43063 \n",
       "\n",
       "[:, :, 4] =\n",
       " -3.07765    -5.19345  -8.07212   -2.85259   0.0464959\n",
       " -1.17632    -3.86023   0.991683  -4.35004  -4.96881  \n",
       "  0.635692    2.96081  -1.97287    4.89307   7.98822  \n",
       " -0.412382   -1.32111  -2.2865    -1.33564  -4.4454   \n",
       " -6.23435   -11.1179   -7.97134   -3.22514   0.510549 \n",
       "\n",
       "[:, :, 5] =\n",
       " -2.35355   0.273765  -3.52529  -7.47195    7.1356 \n",
       " -3.28795   3.82796   -4.0634    0.874769   5.01371\n",
       "  3.64369   4.00564    4.27432   4.15697   -4.73372\n",
       "  2.86411  -1.72462    9.0714   -2.51537   -3.09976\n",
       " -5.01643  -1.43074   -5.52296  -0.357811   3.23122"
      ]
     },
     "execution_count": 19,
     "metadata": {},
     "output_type": "execute_result"
    }
   ],
   "source": [
    "A=randn(5,2,4,5,4,5)\n",
    "B=randn(5,5,2)\n",
    "@tensor D[a,b,c] := A[a,e,f,c,f,g]*B[g,b,e]"
   ]
  },
  {
   "cell_type": "code",
   "execution_count": null,
   "metadata": {
    "collapsed": true
   },
   "outputs": [],
   "source": []
  }
 ],
 "metadata": {
  "kernelspec": {
   "display_name": "Julia 0.6.0",
   "language": "julia",
   "name": "julia-0.6"
  },
  "language_info": {
   "file_extension": ".jl",
   "mimetype": "application/julia",
   "name": "julia",
   "version": "0.6.0"
  }
 },
 "nbformat": 4,
 "nbformat_minor": 2
}
